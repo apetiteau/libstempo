{
 "metadata": {
  "name": "",
  "signature": "sha256:78fa6969dfc3519c224fa527771aa4fbea3b8db842cbde979999420f0ece7f3d"
 },
 "nbformat": 3,
 "nbformat_minor": 0,
 "worksheets": [
  {
   "cells": [
    {
     "cell_type": "heading",
     "level": 2,
     "metadata": {},
     "source": [
      "libstempo tutorial: simulating residuals with toasim"
     ]
    },
    {
     "cell_type": "heading",
     "level": 4,
     "metadata": {},
     "source": [
      "Antoine Petiteau, petiteau@apc.univ-paris7.fr, 2014/11/04 (updated from Michele Vallisneri, vallis@vallis.org, 2014/10/31)"
     ]
    },
    {
     "cell_type": "markdown",
     "metadata": {},
     "source": [
      "This notebook demonstrates the `libstempo` module `toasim`, which allows the simple simulation of various kinds of noise. For a more complete tool, use `MakeFakeParTimFromReal.py` : it takes care of various backend and read noise in temponest format."
     ]
    },
    {
     "cell_type": "code",
     "collapsed": false,
     "input": [
      "import numpy as np\n",
      "import libstempo as T\n",
      "import libstempo.plot as LP, libstempo.toasim as LT\n",
      "\n",
      "T.data = T.__path__[0] + '/data/' # example files"
     ],
     "language": "python",
     "metadata": {},
     "outputs": [],
     "prompt_number": 1
    },
    {
     "cell_type": "markdown",
     "metadata": {},
     "source": [
      "Create a simulated pulsar object starting from an idealized pulsar based on a NANOGrav par/tim file."
     ]
    },
    {
     "cell_type": "code",
     "collapsed": false,
     "input": [
      "spsr = LT.toasim(parfile = T.data + 'B1953+29_NANOGrav_dfg+12.par',\n",
      "                    timfile = T.data + 'B1953+29_NANOGrav_dfg+12.tim')"
     ],
     "language": "python",
     "metadata": {},
     "outputs": [
      {
       "output_type": "stream",
       "stream": "stdout",
       "text": [
        "Pulsar : 1953+29\n",
        "Backend : []\n",
        "EFAC, EQUAD, RN and DM read in parfile /Users/petiteau/Library/Python/2.7/lib/python/site-packages/libstempo/data/B1953+29_NANOGrav_dfg+12.par\n",
        "\t - Red noise : amplitude = 0.0  gamma = 1.1\n",
        "\t - DM : amplitude = 0.0  gamma = 1.1\n",
        "Load toas from /Users/petiteau/Library/Python/2.7/lib/python/site-packages/libstempo/data/B1953+29_NANOGrav_dfg+12.tim ...\n"
       ]
      }
     ],
     "prompt_number": 2
    },
    {
     "cell_type": "markdown",
     "metadata": {},
     "source": [
      "We now put back radiometer noise, with rms amplitude equal to 1x the nominal TOA errors.\n",
      "\n",
      "All the noise-generating commands take an optional argument `seed` that will reseed the numpy pseudorandom-number generator, so you are able to reproduce the same instance of noise. However, if you issue several noise-generating commands in sequence, you should use different seeds. "
     ]
    },
    {
     "cell_type": "code",
     "collapsed": false,
     "input": [
      "spsr.add_whitenoiseTN(efacGlobal=1.0, equadGlobal=0.0)"
     ],
     "language": "python",
     "metadata": {},
     "outputs": [
      {
       "output_type": "stream",
       "stream": "stdout",
       "text": [
        "WARNING : there is no TNEF and TNEQ in the original parfile so individual EFAC is 1.0 and individual EQUAD is 0.0 \n"
       ]
      }
     ],
     "prompt_number": 3
    },
    {
     "cell_type": "markdown",
     "metadata": {},
     "source": [
      "Add red noise with 50 frequency components."
     ]
    },
    {
     "cell_type": "code",
     "collapsed": false,
     "input": [
      "spsr.add_rednoise(1.0e-12, 3.0, components=50)"
     ],
     "language": "python",
     "metadata": {},
     "outputs": [],
     "prompt_number": 4
    },
    {
     "cell_type": "markdown",
     "metadata": {},
     "source": [
      "Add DM noise with 50 frequency components."
     ]
    },
    {
     "cell_type": "code",
     "collapsed": false,
     "input": [
      "spsr.add_dm(5.0e-13, 5.0, components=50)"
     ],
     "language": "python",
     "metadata": {},
     "outputs": [],
     "prompt_number": 5
    },
    {
     "cell_type": "markdown",
     "metadata": {},
     "source": [
      "Save new parfile and timfile.  "
     ]
    },
    {
     "cell_type": "code",
     "collapsed": false,
     "input": [
      "spsr.savepar(\"simu\")\n",
      "spsr.savetim(\"simu\")"
     ],
     "language": "python",
     "metadata": {},
     "outputs": [
      {
       "output_type": "stream",
       "stream": "stdout",
       "text": [
        "Save parameters in simu.par ...\n",
        "Save TOAs in simu.tim ...\n"
       ]
      }
     ],
     "prompt_number": 6
    },
    {
     "cell_type": "markdown",
     "metadata": {},
     "source": [
      "Load the new pulsar with `libstempo` and plot it."
     ]
    },
    {
     "cell_type": "code",
     "collapsed": false,
     "input": [
      "psr = T.tempopulsar(parfile=\"simu.par\",timfile=\"simu.tim\")\n",
      "LP.plotres(psr)"
     ],
     "language": "python",
     "metadata": {},
     "outputs": [],
     "prompt_number": 8
    },
    {
     "cell_type": "markdown",
     "metadata": {},
     "source": [
      "This is a basic usage of the toasim object. \n",
      "It can also take care of various backend and read noise in temponest format. A specific tool has been design for this usage, `MakeFakeParTimFromReal.py` located in `demo` directory.\n",
      "For example, in the case of all noises included in parfile with temponest format you can just run the following command in the directory containing parfiles and timfiles :"
     ]
    },
    {
     "cell_type": "raw",
     "metadata": {},
     "source": [
      "MakeFakeParTimFromReal.py  --ParExtention=\".ML.par\" --UseTNEFEQ --UseTNRNDM --Plots"
     ]
    },
    {
     "cell_type": "markdown",
     "metadata": {},
     "source": [
      "More informations can be found in :"
     ]
    },
    {
     "cell_type": "raw",
     "metadata": {},
     "source": [
      "MakeFakeParTimFromReal.py  --help"
     ]
    },
    {
     "cell_type": "markdown",
     "metadata": {},
     "source": [
      "WARNING : `MakeFakeParTimFromReal.py` has been design for EPTA pulsars format so there is no guarantied for other potential PTA format !"
     ]
    }
   ],
   "metadata": {}
  }
 ]
}